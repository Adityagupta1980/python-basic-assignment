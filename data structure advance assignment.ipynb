{
 "cells": [
  {
   "cell_type": "code",
   "execution_count": 2,
   "id": "4b206732-6d1b-494b-a1ad-bc9c67ab86df",
   "metadata": {},
   "outputs": [
    {
     "data": {
      "text/plain": [
       "'dlrow olleh'"
      ]
     },
     "execution_count": 2,
     "metadata": {},
     "output_type": "execute_result"
    }
   ],
   "source": [
    "# 1\n",
    "def reverse_string(s):\n",
    "    reversed_string = ''.join(reversed(s))\n",
    "    return reversed_string\n",
    "\n",
    "example_string = 'hello world'\n",
    "reverse_string(example_string)\n",
    "\n",
    "\n"
   ]
  },
  {
   "cell_type": "code",
   "execution_count": 3,
   "id": "5b02e809-bb77-46b7-9be3-fecf192c49bc",
   "metadata": {},
   "outputs": [
    {
     "data": {
      "text/plain": [
       "8"
      ]
     },
     "execution_count": 3,
     "metadata": {},
     "output_type": "execute_result"
    }
   ],
   "source": [
    "# 2\n",
    "def count_vowels(s):\n",
    "    vowels = \"aeiouAEIOU\"\n",
    "    count = 0\n",
    "    for char in s:\n",
    "        if char in vowels:\n",
    "            count += 1\n",
    "    return count\n",
    "\n",
    "example_string = 'hello world, this is a test string'\n",
    "count_vowels(example_string)"
   ]
  },
  {
   "cell_type": "code",
   "execution_count": 4,
   "id": "d086f862-2983-4ca6-8283-d65a83afd3bd",
   "metadata": {},
   "outputs": [
    {
     "data": {
      "text/plain": [
       "True"
      ]
     },
     "execution_count": 4,
     "metadata": {},
     "output_type": "execute_result"
    }
   ],
   "source": [
    "# 3\n",
    "def is_palindrome(s):\n",
    "    s = ''.join(filter(str.isalnum, s)).lower()  # Remove non-alphanumeric characters and convert to lowercase\n",
    "    return s == s[::-1]\n",
    "\n",
    "example_string = 'A man, a plan, a canal, Panama'\n",
    "is_palindrome(example_string)"
   ]
  },
  {
   "cell_type": "code",
   "execution_count": 5,
   "id": "20bea3c9-d9e2-46cb-bb20-7f9572791512",
   "metadata": {},
   "outputs": [
    {
     "data": {
      "text/plain": [
       "True"
      ]
     },
     "execution_count": 5,
     "metadata": {},
     "output_type": "execute_result"
    }
   ],
   "source": [
    "# 4\n",
    "def are_anagrams(s1, s2):\n",
    "    s1 = ''.join(sorted(s1.replace(\" \", \"\").lower()))\n",
    "    s2 = ''.join(sorted(s2.replace(\" \", \"\").lower()))\n",
    "    return s1 == s2\n",
    "\n",
    "example_string1 = 'Listen'\n",
    "example_string2 = 'Silent'\n",
    "are_anagrams(example_string1, example_string2)"
   ]
  },
  {
   "cell_type": "code",
   "execution_count": 6,
   "id": "8ec25624-adbe-429a-88f1-4dd68cdcb71c",
   "metadata": {},
   "outputs": [
    {
     "data": {
      "text/plain": [
       "[10, 32]"
      ]
     },
     "execution_count": 6,
     "metadata": {},
     "output_type": "execute_result"
    }
   ],
   "source": [
    "# 5\n",
    "def find_substring_occurrences(s, sub):\n",
    "    start = 0\n",
    "    occurrences = []\n",
    "    while True:\n",
    "        start = s.find(sub, start)\n",
    "        if start == -1:\n",
    "            break\n",
    "        occurrences.append(start)\n",
    "        start += len(sub)  # Move past the last found substring\n",
    "    return occurrences\n",
    "\n",
    "main_string = 'This is a test string, and this test is simple'\n",
    "substring = 'test'\n",
    "find_substring_occurrences(main_string, substring)"
   ]
  },
  {
   "cell_type": "code",
   "execution_count": 7,
   "id": "c175c94a-693b-4ff4-b6c1-3394517870b8",
   "metadata": {},
   "outputs": [
    {
     "data": {
      "text/plain": [
       "'a2b1c5a3'"
      ]
     },
     "execution_count": 7,
     "metadata": {},
     "output_type": "execute_result"
    }
   ],
   "source": [
    "# 6\n",
    "def string_compression(s):\n",
    "    if not s:\n",
    "        return \"\"\n",
    "    \n",
    "    compressed = []\n",
    "    count = 1\n",
    "    last_char = s[0]\n",
    "    \n",
    "    for char in s[1:]:\n",
    "        if char == last_char:\n",
    "            count += 1\n",
    "        else:\n",
    "            compressed.append(f\"{last_char}{count}\")\n",
    "            last_char = char\n",
    "            count = 1\n",
    "    \n",
    "    compressed.append(f\"{last_char}{count}\")\n",
    "    compressed_string = ''.join(compressed)\n",
    "    return compressed_string if len(compressed_string) < len(s) else s\n",
    "\n",
    "example_string = 'aabcccccaaa'\n",
    "string_compression(example_string)"
   ]
  },
  {
   "cell_type": "code",
   "execution_count": 8,
   "id": "e1f5ceaf-5b18-42ee-8e6a-e9ed4bf88c6c",
   "metadata": {},
   "outputs": [
    {
     "data": {
      "text/plain": [
       "True"
      ]
     },
     "execution_count": 8,
     "metadata": {},
     "output_type": "execute_result"
    }
   ],
   "source": [
    "# 7\n",
    "def has_all_unique_chars(s):\n",
    "    seen_chars = set()\n",
    "    for char in s:\n",
    "        if char in seen_chars:\n",
    "            return False\n",
    "        seen_chars.add(char)\n",
    "    return True\n",
    "\n",
    "example_string = 'abcdefg'\n",
    "has_all_unique_chars(example_string)\n"
   ]
  },
  {
   "cell_type": "code",
   "execution_count": 9,
   "id": "12e0a61a-cd8a-46a4-b747-06a88d3c5434",
   "metadata": {},
   "outputs": [
    {
     "data": {
      "text/plain": [
       "'hello world'"
      ]
     },
     "execution_count": 9,
     "metadata": {},
     "output_type": "execute_result"
    }
   ],
   "source": [
    "# 8\n",
    "def convert_case(s, to_upper=True):\n",
    "    converted_string = ''.join([char.upper() if to_upper else char.lower() for char in s])\n",
    "    return converted_string\n",
    "\n",
    "example_string = 'Hello World'\n",
    "convert_case(example_string, to_upper=False)\n",
    "\n",
    "\n",
    "\n"
   ]
  },
  {
   "cell_type": "code",
   "execution_count": 10,
   "id": "5cb59d81-a78f-43eb-8129-d7ad45d8ef47",
   "metadata": {},
   "outputs": [
    {
     "data": {
      "text/plain": [
       "6"
      ]
     },
     "execution_count": 10,
     "metadata": {},
     "output_type": "execute_result"
    }
   ],
   "source": [
    "\n",
    "# 9\n",
    "def count_words(s):\n",
    "    words = s.split()\n",
    "    return len(words)\n",
    "\n",
    "example_string = 'Hello world, this is a test.'\n",
    "count_words(example_string)"
   ]
  },
  {
   "cell_type": "code",
   "execution_count": 11,
   "id": "6ec30358-d3fc-4961-a314-b09c73ae8084",
   "metadata": {},
   "outputs": [
    {
     "data": {
      "text/plain": [
       "'helloworld'"
      ]
     },
     "execution_count": 11,
     "metadata": {},
     "output_type": "execute_result"
    }
   ],
   "source": [
    "# 10\n",
    "def concatenate_strings(s1, s2):\n",
    "    concatenated_string = ''.join([s1, s2])\n",
    "    return concatenated_string\n",
    "\n",
    "string1 = 'hello'\n",
    "string2 = 'world'\n",
    "concatenate_strings(string1, string2)"
   ]
  },
  {
   "cell_type": "code",
   "execution_count": 12,
   "id": "5ad59d9a-0639-4b35-b54d-4c10ea9ae913",
   "metadata": {},
   "outputs": [
    {
     "data": {
      "text/plain": [
       "[1, 3, 4, 5]"
      ]
     },
     "execution_count": 12,
     "metadata": {},
     "output_type": "execute_result"
    }
   ],
   "source": [
    "# 11\n",
    "def remove_element(lst, element):\n",
    "    filtered_list = list(filter(lambda x: x != element, lst))\n",
    "    return filtered_list\n",
    "\n",
    "example_list = [1, 2, 3, 4, 2, 2, 5]\n",
    "element_to_remove = 2\n",
    "remove_element(example_list, element_to_remove)\n",
    "\n",
    "\n",
    "\n",
    "\n"
   ]
  },
  {
   "cell_type": "code",
   "execution_count": 13,
   "id": "6013c705-a71a-4e25-b54a-8612b7f6b9da",
   "metadata": {},
   "outputs": [
    {
     "data": {
      "text/plain": [
       "4"
      ]
     },
     "execution_count": 13,
     "metadata": {},
     "output_type": "execute_result"
    }
   ],
   "source": [
    "# 12\n",
    "def second_largest(lst):\n",
    "    if len(lst) < 2:\n",
    "        return None\n",
    "    first = second = float('-inf')\n",
    "    for num in lst:\n",
    "        if num > first:\n",
    "            first, second = num, first\n",
    "        elif first > num > second:\n",
    "            second = num\n",
    "    return second if second != float('-inf') else None\n",
    "\n",
    "example_list = [1, 2, 3, 4, 5, 5]\n",
    "second_largest(example_list)"
   ]
  },
  {
   "cell_type": "code",
   "execution_count": 14,
   "id": "965feac3-301e-4576-8204-2266d28b829a",
   "metadata": {},
   "outputs": [
    {
     "data": {
      "text/plain": [
       "{1: 1, 2: 2, 3: 3, 4: 4}"
      ]
     },
     "execution_count": 14,
     "metadata": {},
     "output_type": "execute_result"
    }
   ],
   "source": [
    "# 13\n",
    "def count_occurrences(lst):\n",
    "    count_dict = {}\n",
    "    for item in lst:\n",
    "        count_dict[item] = count_dict.get(item, 0) + 1\n",
    "    return count_dict\n",
    "\n",
    "example_list = [1, 2, 2, 3, 3, 3, 4, 4, 4, 4]\n",
    "count_occurrences(example_list)"
   ]
  },
  {
   "cell_type": "code",
   "execution_count": 15,
   "id": "12775d63-156e-4960-a1fe-67f8e8c435eb",
   "metadata": {},
   "outputs": [
    {
     "data": {
      "text/plain": [
       "[5, 4, 3, 2, 1]"
      ]
     },
     "execution_count": 15,
     "metadata": {},
     "output_type": "execute_result"
    }
   ],
   "source": [
    "# 14\n",
    "def reverse_list_in_place(lst):\n",
    "    left, right = 0, len(lst) - 1\n",
    "    while left < right:\n",
    "        lst[left], lst[right] = lst[right], lst[left]\n",
    "        left += 1\n",
    "        right -= 1\n",
    "\n",
    "example_list = [1, 2, 3, 4, 5]\n",
    "reverse_list_in_place(example_list)\n",
    "example_list\n"
   ]
  },
  {
   "cell_type": "code",
   "execution_count": 16,
   "id": "cf16a6d1-6c3e-447d-947b-a0990d41217f",
   "metadata": {},
   "outputs": [
    {
     "data": {
      "text/plain": [
       "[1, 2, 3, 4, 5]"
      ]
     },
     "execution_count": 16,
     "metadata": {},
     "output_type": "execute_result"
    }
   ],
   "source": [
    "# 15\n",
    "def remove_duplicates(lst):\n",
    "    seen = set()\n",
    "    result = []\n",
    "    for item in lst:\n",
    "        if item not in seen:\n",
    "            seen.add(item)\n",
    "            result.append(item)\n",
    "    return result\n",
    "\n",
    "example_list = [1, 2, 2, 3, 4, 4, 5]\n",
    "remove_duplicates(example_list)"
   ]
  },
  {
   "cell_type": "code",
   "execution_count": 17,
   "id": "66c3ea54-f8ad-48c4-955b-a704c748144e",
   "metadata": {},
   "outputs": [
    {
     "data": {
      "text/plain": [
       "True"
      ]
     },
     "execution_count": 17,
     "metadata": {},
     "output_type": "execute_result"
    }
   ],
   "source": [
    "# 16\n",
    "def is_sorted(lst):\n",
    "    ascending = all(lst[i] <= lst[i + 1] for i in range(len(lst) - 1))\n",
    "    descending = all(lst[i] >= lst[i + 1] for i in range(len(lst) - 1))\n",
    "    return ascending or descending\n",
    "\n",
    "example_list = [1, 2, 3, 4, 5]\n",
    "is_sorted(example_list)"
   ]
  },
  {
   "cell_type": "code",
   "execution_count": 18,
   "id": "9ef32ab0-34d9-4173-8709-86e31bb8a033",
   "metadata": {},
   "outputs": [
    {
     "data": {
      "text/plain": [
       "[1, 2, 3, 4, 5, 6]"
      ]
     },
     "execution_count": 18,
     "metadata": {},
     "output_type": "execute_result"
    }
   ],
   "source": [
    "# 17\n",
    "def merge_sorted_lists(lst1, lst2):\n",
    "    merged_list = []\n",
    "    i = j = 0\n",
    "    while i < len(lst1) and j < len(lst2):\n",
    "        if lst1[i] < lst2[j]:\n",
    "            merged_list.append(lst1[i])\n",
    "            i += 1\n",
    "        else:\n",
    "            merged_list.append(lst2[j])\n",
    "            j += 1\n",
    "    merged_list.extend(lst1[i:])\n",
    "    merged_list.extend(lst2[j:])\n",
    "    return merged_list\n",
    "\n",
    "list1 = [1, 3, 5]\n",
    "list2 = [2, 4, 6]\n",
    "merge_sorted_lists(list1, list2)"
   ]
  },
  {
   "cell_type": "code",
   "execution_count": 19,
   "id": "ac7e8d5b-7d7d-4a9e-8bc7-d308545a75cb",
   "metadata": {},
   "outputs": [
    {
     "data": {
      "text/plain": [
       "[3, 4]"
      ]
     },
     "execution_count": 19,
     "metadata": {},
     "output_type": "execute_result"
    }
   ],
   "source": [
    "# 18\n",
    "def find_intersection(lst1, lst2):\n",
    "    return list(set(lst1) & set(lst2))\n",
    "\n",
    "list1 = [1, 2, 3, 4]\n",
    "list2 = [3, 4, 5, 6]\n",
    "find_intersection(list1, list2)\n"
   ]
  },
  {
   "cell_type": "code",
   "execution_count": 20,
   "id": "d42b2113-64c1-4d8f-8790-537b87801d1b",
   "metadata": {},
   "outputs": [
    {
     "data": {
      "text/plain": [
       "[1, 2, 3, 4, 5, 6]"
      ]
     },
     "execution_count": 20,
     "metadata": {},
     "output_type": "execute_result"
    }
   ],
   "source": [
    "# 19\n",
    "def find_union(lst1, lst2):\n",
    "    return list(set(lst1) | set(lst2))\n",
    "\n",
    "list1 = [1, 2, 3, 4]\n",
    "list2 = [3, 4, 5, 6]\n",
    "find_union(list1, list2)\n"
   ]
  },
  {
   "cell_type": "code",
   "execution_count": 21,
   "id": "e4fa03b0-d13d-4b80-901a-1434146a64ec",
   "metadata": {},
   "outputs": [
    {
     "data": {
      "text/plain": [
       "[2, 4, 1, 3, 5]"
      ]
     },
     "execution_count": 21,
     "metadata": {},
     "output_type": "execute_result"
    }
   ],
   "source": [
    "# 20\n",
    "import random\n",
    "\n",
    "def shuffle_list(lst):\n",
    "    for i in range(len(lst) - 1, 0, -1):\n",
    "        j = random.randint(0, i)\n",
    "        lst[i], lst[j] = lst[j], lst[i]\n",
    "    return lst\n",
    "\n",
    "example_list = [1, 2, 3, 4, 5]\n",
    "shuffle_list(example_list)"
   ]
  },
  {
   "cell_type": "code",
   "execution_count": 22,
   "id": "1bde0c5f-d325-48ef-9957-1049bcb09911",
   "metadata": {},
   "outputs": [
    {
     "data": {
      "text/plain": [
       "(3, 4)"
      ]
     },
     "execution_count": 22,
     "metadata": {},
     "output_type": "execute_result"
    }
   ],
   "source": [
    "# 21\n",
    "def common_elements_in_tuples(t1, t2):\n",
    "    return tuple(set(t1) & set(t2))\n",
    "\n",
    "tuple1 = (1, 2, 3, 4)\n",
    "tuple2 = (3, 4, 5, 6)\n",
    "common_elements_in_tuples(tuple1, tuple2)"
   ]
  },
  {
   "cell_type": "code",
   "execution_count": 27,
   "id": "0840a133-6c62-4c68-9cce-bdd5f9ff1839",
   "metadata": {},
   "outputs": [
    {
     "name": "stdin",
     "output_type": "stream",
     "text": [
      "Enter the first set of integers separated by commas:  1,2,3,4,5\n",
      "Enter the second set of integers separated by commas:  7,8,3,2,45\n"
     ]
    },
    {
     "name": "stdout",
     "output_type": "stream",
     "text": [
      "Intersection of the two sets: {2, 3}\n"
     ]
    }
   ],
   "source": [
    "# 22\n",
    "def prompt_and_find_intersection():\n",
    "    set1 = set(map(int, input(\"Enter the first set of integers separated by commas: \").split(',')))\n",
    "    set2 = set(map(int, input(\"Enter the second set of integers separated by commas: \").split(',')))\n",
    "    intersection = set1 & set2\n",
    "    return intersection\n",
    "\n",
    "\n",
    "print(\"Intersection of the two sets:\", prompt_and_find_intersection())\n"
   ]
  },
  {
   "cell_type": "code",
   "execution_count": 28,
   "id": "731932a6-6e76-4573-b355-8093cfe66b93",
   "metadata": {},
   "outputs": [
    {
     "data": {
      "text/plain": [
       "(1, 2, 3, 4, 5, 6)"
      ]
     },
     "execution_count": 28,
     "metadata": {},
     "output_type": "execute_result"
    }
   ],
   "source": [
    "# 23\n",
    "def concatenate_tuples(t1, t2):\n",
    "    return t1 + t2\n",
    "\n",
    "tuple1 = (1, 2, 3)\n",
    "tuple2 = (4, 5, 6)\n",
    "concatenate_tuples(tuple1, tuple2)"
   ]
  },
  {
   "cell_type": "code",
   "execution_count": 33,
   "id": "cc986c5d-08cd-40b9-9f9e-625486f47568",
   "metadata": {},
   "outputs": [
    {
     "name": "stdin",
     "output_type": "stream",
     "text": [
      "Enter the first set of strings separated by commas:  1,2,3,4,5\n",
      "Enter the second set of strings separated by commas:  3,4,5,6,7\n"
     ]
    },
    {
     "name": "stdout",
     "output_type": "stream",
     "text": [
      "Elements in the first set but not in the second set: {'2', '1'}\n"
     ]
    }
   ],
   "source": [
    "# 24\n",
    "def prompt_sets_difference():\n",
    "    set1 = set(input(\"Enter the first set of strings separated by commas: \").split(','))\n",
    "    set2 = set(input(\"Enter the second set of strings separated by commas: \").split(','))\n",
    "    difference = set1 - set2\n",
    "    return difference\n",
    "print(f\"Elements in the first set but not in the second set:\", prompt_sets_difference())"
   ]
  },
  {
   "cell_type": "code",
   "execution_count": 34,
   "id": "47e6b14f-7fc3-468c-8b70-c40f342809ac",
   "metadata": {},
   "outputs": [
    {
     "data": {
      "text/plain": [
       "(3, 4, 5)"
      ]
     },
     "execution_count": 34,
     "metadata": {},
     "output_type": "execute_result"
    }
   ],
   "source": [
    "# 25\n",
    "def tuple_slice(t, start, end):\n",
    "    return t[start:end+1]\n",
    "\n",
    "example_tuple = (1, 2, 3, 4, 5, 6)\n",
    "start_index = 2\n",
    "end_index = 4\n",
    "tuple_slice(example_tuple, start_index, end_index)\n"
   ]
  },
  {
   "cell_type": "code",
   "execution_count": 35,
   "id": "7f48201e-fbdb-4ea4-a5e2-be1a42102f22",
   "metadata": {},
   "outputs": [
    {
     "name": "stdin",
     "output_type": "stream",
     "text": [
      "Enter the first set of characters separated by commas:  1,2,3,4,5,6,6\n",
      "Enter the second set of characters separated by commas:  45,67,87,54\n"
     ]
    },
    {
     "name": "stdout",
     "output_type": "stream",
     "text": [
      "Union of the two sets: {'3', '4', '54', '1', '87', '5', '45', '67', '6', '2'}\n"
     ]
    }
   ],
   "source": [
    "# 26\n",
    "def prompt_sets_union():\n",
    "    set1 = set(input(\"Enter the first set of characters separated by commas: \").split(','))\n",
    "    set2 = set(input(\"Enter the second set of characters separated by commas: \").split(','))\n",
    "    union = set1 | set2\n",
    "    return union\n",
    "print(f\"Union of the two sets:\",prompt_sets_union())\n"
   ]
  },
  {
   "cell_type": "code",
   "execution_count": 36,
   "id": "9412e19f-de27-435c-9ab5-246b52af54a7",
   "metadata": {},
   "outputs": [
    {
     "data": {
      "text/plain": [
       "(1, 5)"
      ]
     },
     "execution_count": 36,
     "metadata": {},
     "output_type": "execute_result"
    }
   ],
   "source": [
    "# 27\n",
    "def tuple_min_max(t):\n",
    "    min_val, max_val = min(t), max(t)\n",
    "    return min_val, max_val\n",
    "\n",
    "example_tuple = (4, 1, 3, 5, 2)\n",
    "tuple_min_max(example_tuple)\n"
   ]
  },
  {
   "cell_type": "code",
   "execution_count": 38,
   "id": "34d3b149-dc63-447e-ae98-d7554cd91c37",
   "metadata": {},
   "outputs": [
    {
     "name": "stdout",
     "output_type": "stream",
     "text": [
      "Union: {1, 2, 3, 4, 5, 6}\n",
      "Intersection: {3, 4}\n",
      "Difference: {1, 2}\n"
     ]
    }
   ],
   "source": [
    "# 28\n",
    "def set_operations():\n",
    "    set1 = {1, 2, 3, 4}\n",
    "    set2 = {3, 4, 5, 6}\n",
    "    union = set1 | set2\n",
    "    intersection = set1 & set2\n",
    "    difference = set1 - set2\n",
    "    print(f\"Union: {union}\")\n",
    "    print(f\"Intersection: {intersection}\")\n",
    "    print(f\"Difference: {difference}\")\n",
    "\n",
    "\n",
    "set_operations()\n"
   ]
  },
  {
   "cell_type": "code",
   "execution_count": 40,
   "id": "ca6884b5-ab71-41df-8ca3-1a789d9bc84a",
   "metadata": {},
   "outputs": [
    {
     "data": {
      "text/plain": [
       "3"
      ]
     },
     "execution_count": 40,
     "metadata": {},
     "output_type": "execute_result"
    }
   ],
   "source": [
    "def count_element(t, element):\n",
    "    return t.count(element)\n",
    "\n",
    "example_tuple = (1, 2, 2, 3, 3, 3, 4, 4, 4, 4)\n",
    "element_to_count = 3\n",
    "count_element(example_tuple, element_to_count)\n"
   ]
  },
  {
   "cell_type": "code",
   "execution_count": 41,
   "id": "0740180e-10d8-4df7-8d39-f52c12245b5c",
   "metadata": {},
   "outputs": [
    {
     "name": "stdin",
     "output_type": "stream",
     "text": [
      "Enter the first set of strings separated by commas:  1,2,3,4,5,3\n",
      "Enter the second set of strings separated by commas:  23,45,3,4,5,6\n"
     ]
    },
    {
     "name": "stdout",
     "output_type": "stream",
     "text": [
      "Symmetric difference of the two sets: {'23', '6', '1', '2', '45'}\n"
     ]
    }
   ],
   "source": [
    "# 30\n",
    "def prompt_symmetric_difference():\n",
    "    set1 = set(input(\"Enter the first set of strings separated by commas: \").split(','))\n",
    "    set2 = set(input(\"Enter the second set of strings separated by commas: \").split(','))\n",
    "    symmetric_difference = set1 ^ set2\n",
    "    print(f\"Symmetric difference of the two sets: {symmetric_difference}\")\n",
    "prompt_symmetric_difference()"
   ]
  },
  {
   "cell_type": "code",
   "execution_count": 42,
   "id": "25dbeb32-6765-4174-9b45-601bd1176798",
   "metadata": {},
   "outputs": [
    {
     "data": {
      "text/plain": [
       "{'apple': 3, 'banana': 2, 'orange': 1}"
      ]
     },
     "execution_count": 42,
     "metadata": {},
     "output_type": "execute_result"
    }
   ],
   "source": [
    "# 31\n",
    "def word_frequencies(words):\n",
    "    frequency = {}\n",
    "    for word in words:\n",
    "        frequency[word] = frequency.get(word, 0) + 1\n",
    "    return frequency\n",
    "\n",
    "example_words = [\"apple\", \"banana\", \"apple\", \"orange\", \"banana\", \"apple\"]\n",
    "word_frequencies(example_words)"
   ]
  },
  {
   "cell_type": "code",
   "execution_count": 43,
   "id": "9ecbdc0c-f039-4753-b87e-c1d07e5965f5",
   "metadata": {},
   "outputs": [
    {
     "data": {
      "text/plain": [
       "{'a': 1, 'b': 5, 'c': 7, 'd': 5}"
      ]
     },
     "execution_count": 43,
     "metadata": {},
     "output_type": "execute_result"
    }
   ],
   "source": [
    "# 32\n",
    "def merge_dictionaries(d1, d2):\n",
    "    merged = d1.copy()\n",
    "    for key, value in d2.items():\n",
    "        if key in merged:\n",
    "            merged[key] += value\n",
    "        else:\n",
    "            merged[key] = value\n",
    "    return merged\n",
    "\n",
    "dict1 = {'a': 1, 'b': 2, 'c': 3}\n",
    "dict2 = {'b': 3, 'c': 4, 'd': 5}\n",
    "merge_dictionaries(dict1, dict2)"
   ]
  },
  {
   "cell_type": "code",
   "execution_count": 44,
   "id": "b8ebd6df-c8ab-465a-92fe-95e1be2f6300",
   "metadata": {},
   "outputs": [
    {
     "data": {
      "text/plain": [
       "42"
      ]
     },
     "execution_count": 44,
     "metadata": {},
     "output_type": "execute_result"
    }
   ],
   "source": [
    "# 33\n",
    "def access_nested_dict(d, keys):\n",
    "    for key in keys:\n",
    "        if key in d:\n",
    "            d = d[key]\n",
    "        else:\n",
    "            return None\n",
    "    return d\n",
    "\n",
    "nested_dict = {'a': {'b': {'c': 42}}}\n",
    "keys_list = ['a', 'b', 'c']\n",
    "access_nested_dict(nested_dict, keys_list)\n"
   ]
  },
  {
   "cell_type": "code",
   "execution_count": 45,
   "id": "6e4e61b0-4ed5-4124-b675-bd028e11efb6",
   "metadata": {},
   "outputs": [
    {
     "data": {
      "text/plain": [
       "{'b': 1, 'c': 2, 'a': 3}"
      ]
     },
     "execution_count": 45,
     "metadata": {},
     "output_type": "execute_result"
    }
   ],
   "source": [
    "# 34\n",
    "def sort_dict_by_values(d, ascending=True):\n",
    "    return dict(sorted(d.items(), key=lambda item: item[1], reverse=not ascending))\n",
    "\n",
    "example_dict = {'a': 3, 'b': 1, 'c': 2}\n",
    "sort_dict_by_values(example_dict, ascending=True)\n"
   ]
  },
  {
   "cell_type": "code",
   "execution_count": 46,
   "id": "fed2839e-b4c4-4773-bed8-9f55083cdba9",
   "metadata": {},
   "outputs": [
    {
     "data": {
      "text/plain": [
       "{1: ['a', 'c'], 2: ['b']}"
      ]
     },
     "execution_count": 46,
     "metadata": {},
     "output_type": "execute_result"
    }
   ],
   "source": [
    "# 35\n",
    "def invert_dict(d):\n",
    "    inverted = {}\n",
    "    for key, value in d.items():\n",
    "        if value not in inverted:\n",
    "            inverted[value] = [key]\n",
    "        else:\n",
    "            inverted[value].append(key)\n",
    "    return inverted\n",
    "\n",
    "example_dict = {'a': 1, 'b': 2, 'c': 1}\n",
    "invert_dict(example_dict)\n",
    "\n",
    "\n",
    "\n",
    "\n"
   ]
  },
  {
   "cell_type": "code",
   "execution_count": null,
   "id": "bb9a2d08-ac7b-4ad6-a701-34a699a31205",
   "metadata": {},
   "outputs": [],
   "source": []
  }
 ],
 "metadata": {
  "kernelspec": {
   "display_name": "Python 3 (ipykernel)",
   "language": "python",
   "name": "python3"
  },
  "language_info": {
   "codemirror_mode": {
    "name": "ipython",
    "version": 3
   },
   "file_extension": ".py",
   "mimetype": "text/x-python",
   "name": "python",
   "nbconvert_exporter": "python",
   "pygments_lexer": "ipython3",
   "version": "3.10.8"
  }
 },
 "nbformat": 4,
 "nbformat_minor": 5
}
