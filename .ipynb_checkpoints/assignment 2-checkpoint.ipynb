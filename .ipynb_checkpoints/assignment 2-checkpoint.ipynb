{
 "cells": [
  {
   "cell_type": "code",
   "execution_count": 1,
   "id": "26144dc4-de2d-49e7-94ac-a4c56c01e60e",
   "metadata": {},
   "outputs": [
    {
     "name": "stdout",
     "output_type": "stream",
     "text": [
      "Hello\n",
      "World\n",
      "Hlo ol!\n"
     ]
    }
   ],
   "source": [
    "# que 1\n",
    "# String Slicing in Python\n",
    "\n",
    "\"\"\" String slicing is a way to get a substring from a string. It uses the colon `:` operator with start, stop, and step parameters.\n",
    "\n",
    "\"\"\"\n",
    "# Example of string slicing\n",
    "s = \"Hello, World!\"\n",
    "print(s[0:5])    \n",
    "print(s[7:12])   \n",
    "print(s[::2])    \n"
   ]
  },
  {
   "cell_type": "code",
   "execution_count": 2,
   "id": "093106cf-5c2c-45db-8e00-c6d44f4e0a7f",
   "metadata": {},
   "outputs": [
    {
     "name": "stdout",
     "output_type": "stream",
     "text": [
      "3\n",
      "[1, 2, 10, 4, 5]\n",
      "[1, 2, 4, 5]\n",
      "[1, 2, 5]\n"
     ]
    }
   ],
   "source": [
    "# que 2\n",
    "# Lists in Python are ordered, mutable, and allow duplicate elements. They can contain elements of different data types.\n",
    "\n",
    "        \n",
    "# Example of accessing, modifying, and deleting elements in a list\n",
    "my_list = [1, 2, 3, 4, 5]\n",
    "print(my_list[2])       \n",
    "my_list[2] = 10\n",
    "print(my_list)          \n",
    "del my_list[2]\n",
    "print(my_list)          \n",
    "my_list.remove(4)\n",
    "print(my_list)          \n"
   ]
  },
  {
   "cell_type": "code",
   "execution_count": 3,
   "id": "c9f6c305-e82d-4aa6-b9cf-8f54f6e082d6",
   "metadata": {},
   "outputs": [
    {
     "name": "stdout",
     "output_type": "stream",
     "text": [
      "(1, 2, 3)\n",
      "[1, 2, 3]\n"
     ]
    }
   ],
   "source": [
    "# que3\n",
    "# Tuples are immutable and typically used for heterogeneous data, while lists are mutable and used for homogeneous data.\n",
    "# Example of tuples and lists\n",
    "my_tuple = (1, 2, 3)\n",
    "my_list = [1, 2, 3]\n",
    "print(my_tuple)        \n",
    "print(my_list)          \n"
   ]
  },
  {
   "cell_type": "code",
   "execution_count": 4,
   "id": "125b5594-29c5-48b5-9006-cfd88646811a",
   "metadata": {},
   "outputs": [
    {
     "name": "stdout",
     "output_type": "stream",
     "text": [
      "{1, 2, 3, 4, 5}\n",
      "{1, 2, 3, 4, 5, 6}\n"
     ]
    }
   ],
   "source": [
    "# que 4\n",
    "# Sets are unordered collections of unique elements. They support operations like union, intersection, and difference.\n",
    "# Example of sets\n",
    "my_set = {1, 2, 3, 4, 5}\n",
    "print(my_set)           \n",
    "my_set.add(6)\n",
    "print(my_set)          \n",
    "\n"
   ]
  },
  {
   "cell_type": "code",
   "execution_count": 5,
   "id": "6a940051-f384-4868-8d3f-4e51cefa606d",
   "metadata": {},
   "outputs": [
    {
     "name": "stdout",
     "output_type": "stream",
     "text": [
      "(10, 20)\n",
      "{1, 2, 3, 4, 5}\n"
     ]
    }
   ],
   "source": [
    "# que 5\n",
    "# Use Cases of Tuples and Sets in Python Programming\n",
    "# Tuples are used for fixed collections of items, while sets are used for membership testing and eliminating duplicates.\n",
    "# Example of use cases\n",
    "# Tuples\n",
    "coordinates = (10, 20)\n",
    "print(coordinates)      \n",
    "# Sets\n",
    "unique_numbers = {1, 2, 3, 4, 4, 5}\n",
    "print(unique_numbers)   \n"
   ]
  },
  {
   "cell_type": "code",
   "execution_count": 6,
   "id": "155f783b-4c78-4ba5-b3f9-020c97e7c660",
   "metadata": {},
   "outputs": [
    {
     "name": "stdout",
     "output_type": "stream",
     "text": [
      "{'a': 1, 'b': 2, 'c': 3, 'd': 4}\n",
      "{'a': 10, 'b': 2, 'c': 3, 'd': 4}\n",
      "{'a': 10, 'c': 3, 'd': 4}\n"
     ]
    }
   ],
   "source": [
    "# que 6\n",
    "# Adding, Modifying, and Deleting Items in a Dictionary\n",
    "# Dictionaries store key-value pairs and are mutable. Keys must be unique and immutable.\n",
    "# Example of adding, modifying, and deleting items in a dictionary\n",
    "my_dict = {\"a\": 1, \"b\": 2, \"c\": 3}\n",
    "my_dict[\"d\"] = 4\n",
    "print(my_dict)          \n",
    "my_dict[\"a\"] = 10\n",
    "print(my_dict)          \n",
    "del my_dict[\"b\"]\n",
    "print(my_dict)          \n"
   ]
  },
  {
   "cell_type": "code",
   "execution_count": 7,
   "id": "fb43a8be-1986-4613-b50f-69a754722da9",
   "metadata": {},
   "outputs": [
    {
     "name": "stdout",
     "output_type": "stream",
     "text": [
      "{('x', 'y'): 1, 'name': 'Alice'}\n"
     ]
    }
   ],
   "source": [
    "# que7\n",
    "# Importance of Dictionary Keys Being Immutable\n",
    "# Dictionary keys must be immutable so that their hash value remains constant. This ensures the integrity of the dictionary.\n",
    "# Example of immutable keys\n",
    "my_dict = {(\"x\", \"y\"): 1, \"name\": \"Alice\"}\n",
    "print(my_dict)          \n"
   ]
  },
  {
   "cell_type": "code",
   "execution_count": null,
   "id": "19f53e1e-a895-414a-a62d-c872bea23796",
   "metadata": {},
   "outputs": [],
   "source": []
  }
 ],
 "metadata": {
  "kernelspec": {
   "display_name": "Python 3 (ipykernel)",
   "language": "python",
   "name": "python3"
  },
  "language_info": {
   "codemirror_mode": {
    "name": "ipython",
    "version": 3
   },
   "file_extension": ".py",
   "mimetype": "text/x-python",
   "name": "python",
   "nbconvert_exporter": "python",
   "pygments_lexer": "ipython3",
   "version": "3.10.8"
  }
 },
 "nbformat": 4,
 "nbformat_minor": 5
}
